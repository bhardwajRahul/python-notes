{
 "cells": [
  {
   "cell_type": "markdown",
   "id": "158965c7",
   "metadata": {},
   "source": [
    "MSSQL with Python"
   ]
  },
  {
   "cell_type": "code",
   "execution_count": null,
   "id": "ce2e4a03",
   "metadata": {
    "vscode": {
     "languageId": "plaintext"
    }
   },
   "outputs": [],
   "source": [
    "!pip install mssql-python"
   ]
  },
  {
   "cell_type": "code",
   "execution_count": null,
   "id": "1c31f2f3",
   "metadata": {
    "vscode": {
     "languageId": "plaintext"
    }
   },
   "outputs": [],
   "source": [
    "import mssql_python\n",
    " \n",
    "# Establish a connection\n",
    "# Specify connection string\n",
    "connection_string = \"YOUR_CONNECTION_STRING\"\n",
    "# sample connection\n",
    "# SERVER=<your_server_name>;DATABASE=<your_database_name>;UID=<your_user_name>;PWD=<your_password>;Encrypt=yes;\n",
    "connection = mssql_python.connect(connection_string)\n",
    " \n",
    "# Execute a query\n",
    "cursor = connection.cursor()\n",
    "cursor.execute(\"SELECT * from customer\")\n",
    "rows = cursor.fetchall()\n",
    " \n",
    "for row in rows:\n",
    "    print(row)\n",
    " \n",
    "# Close the connection\n",
    "connection.close()"
   ]
  }
 ],
 "metadata": {
  "language_info": {
   "name": "python"
  }
 },
 "nbformat": 4,
 "nbformat_minor": 5
}
